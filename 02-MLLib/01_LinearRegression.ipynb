{
 "cells": [
  {
   "cell_type": "markdown",
   "source": [
    "## Spark SQL Documentation:\n",
    "\n",
    "[Regression: Linear least squares, Lasso, and ridge regression](https://spark.apache.org/docs/latest/mllib-linear-methods.html#linear-least-squares-lasso-and-ridge-regression)"
   ],
   "metadata": {
    "collapsed": false
   }
  },
  {
   "cell_type": "code",
   "execution_count": 4,
   "outputs": [],
   "source": [
    "from pyspark.sql import SparkSession"
   ],
   "metadata": {
    "collapsed": false,
    "ExecuteTime": {
     "end_time": "2023-07-02T19:04:23.572200900Z",
     "start_time": "2023-07-02T19:04:23.558203500Z"
    }
   }
  },
  {
   "cell_type": "code",
   "execution_count": 5,
   "outputs": [],
   "source": [
    "spark = SparkSession.builder.appName(\"linear-regression\").getOrCreate()"
   ],
   "metadata": {
    "collapsed": false,
    "ExecuteTime": {
     "end_time": "2023-07-02T19:04:27.445969100Z",
     "start_time": "2023-07-02T19:04:24.663109600Z"
    }
   }
  },
  {
   "cell_type": "code",
   "execution_count": 0,
   "outputs": [],
   "source": [
    "from pyspark.ml.regression import LinearRegression"
   ],
   "metadata": {
    "collapsed": false
   }
  },
  {
   "cell_type": "markdown",
   "source": [
    "We will need to split our data for training.\n",
    "Read in all data, then split..."
   ],
   "metadata": {
    "collapsed": false
   }
  },
  {
   "cell_type": "code",
   "execution_count": 18,
   "outputs": [],
   "source": [
    "all_data = spark.read.format('libsvm').load(\"sample_linear_regression_data.txt\")"
   ],
   "metadata": {
    "collapsed": false,
    "ExecuteTime": {
     "end_time": "2023-07-02T19:17:09.995661Z",
     "start_time": "2023-07-02T19:17:09.909665800Z"
    }
   }
  },
  {
   "cell_type": "markdown",
   "source": [
    "randomSplit takes an array of percentages.\n",
    "In this case, we do a 70/30 split\n",
    "We end up with 2 DataFrames"
   ],
   "metadata": {
    "collapsed": false
   }
  },
  {
   "cell_type": "code",
   "execution_count": 19,
   "outputs": [],
   "source": [
    "train_data,test_data = all_data.randomSplit([0.7, 0.3])"
   ],
   "metadata": {
    "collapsed": false,
    "ExecuteTime": {
     "end_time": "2023-07-02T19:17:13.665813600Z",
     "start_time": "2023-07-02T19:17:13.638647200Z"
    }
   }
  },
  {
   "cell_type": "code",
   "execution_count": 23,
   "outputs": [
    {
     "name": "stdout",
     "output_type": "stream",
     "text": [
      "+-------+-------------------+\n",
      "|summary|              label|\n",
      "+-------+-------------------+\n",
      "|  count|                359|\n",
      "|   mean| 0.6434249129513124|\n",
      "| stddev| 10.351608098840114|\n",
      "|    min|-28.571478869743427|\n",
      "|    max| 26.903524792043335|\n",
      "+-------+-------------------+\n",
      "\n"
     ]
    }
   ],
   "source": [
    "train_data.describe().show()"
   ],
   "metadata": {
    "collapsed": false,
    "ExecuteTime": {
     "end_time": "2023-07-02T19:18:34.623441Z",
     "start_time": "2023-07-02T19:18:34.474441600Z"
    }
   }
  },
  {
   "cell_type": "code",
   "execution_count": 26,
   "outputs": [
    {
     "name": "stdout",
     "output_type": "stream",
     "text": [
      "+-------+-------------------+\n",
      "|summary|              label|\n",
      "+-------+-------------------+\n",
      "|  count|                142|\n",
      "|   mean|-0.7203397452805057|\n",
      "| stddev|  10.20302685641113|\n",
      "|    min|-28.046018037776633|\n",
      "|    max|  27.78383192005107|\n",
      "+-------+-------------------+\n",
      "\n"
     ]
    }
   ],
   "source": [
    "test_data.describe().show()"
   ],
   "metadata": {
    "collapsed": false,
    "ExecuteTime": {
     "end_time": "2023-07-02T19:20:25.079710300Z",
     "start_time": "2023-07-02T19:20:24.940710300Z"
    }
   }
  },
  {
   "cell_type": "code",
   "execution_count": 0,
   "outputs": [],
   "source": [
    "lr = LinearRegression(\n",
    "    featuresCol='features',\n",
    "    labelCol='label',\n",
    "    predictionCol='prediction'\n",
    ")"
   ],
   "metadata": {
    "collapsed": false
   }
  },
  {
   "cell_type": "markdown",
   "source": [
    "Using LinearRegression `lr`, let see how well our training data did"
   ],
   "metadata": {
    "collapsed": false
   }
  },
  {
   "cell_type": "code",
   "execution_count": 32,
   "outputs": [],
   "source": [
    "correct_model = lr.fit(train_data)"
   ],
   "metadata": {
    "collapsed": false,
    "ExecuteTime": {
     "end_time": "2023-07-02T19:28:13.209460600Z",
     "start_time": "2023-07-02T19:28:13.059282700Z"
    }
   }
  },
  {
   "cell_type": "code",
   "execution_count": 33,
   "outputs": [],
   "source": [
    "test_results = correct_model.evaluate(test_data)"
   ],
   "metadata": {
    "collapsed": false,
    "ExecuteTime": {
     "end_time": "2023-07-02T19:28:14.254678200Z",
     "start_time": "2023-07-02T19:28:14.197497700Z"
    }
   }
  },
  {
   "cell_type": "markdown",
   "source": [
    "Using evaulate on our test data,\n",
    "we can compare our predicitons to the labels already assigned on the test data"
   ],
   "metadata": {
    "collapsed": false
   }
  },
  {
   "cell_type": "code",
   "execution_count": 34,
   "outputs": [
    {
     "data": {
      "text/plain": "10.553514572368591"
     },
     "execution_count": 34,
     "metadata": {},
     "output_type": "execute_result"
    }
   ],
   "source": [
    "test_results.rootMeanSquaredError"
   ],
   "metadata": {
    "collapsed": false,
    "ExecuteTime": {
     "end_time": "2023-07-02T19:28:15.965469500Z",
     "start_time": "2023-07-02T19:28:15.951470800Z"
    }
   }
  },
  {
   "cell_type": "markdown",
   "source": [
    "Here we would keep modifying parameters to LinearRegression until we get a `correct model` (???)\n",
    "\n",
    "Once we have our model, we apply that to unlabeled data:"
   ],
   "metadata": {
    "collapsed": false
   }
  },
  {
   "cell_type": "code",
   "execution_count": 31,
   "outputs": [],
   "source": [
    "unlabeled_data = test_data.select('features')"
   ],
   "metadata": {
    "collapsed": false,
    "ExecuteTime": {
     "end_time": "2023-07-02T19:27:47.020830100Z",
     "start_time": "2023-07-02T19:27:47.011831Z"
    }
   }
  },
  {
   "cell_type": "code",
   "execution_count": 35,
   "outputs": [],
   "source": [
    "predictions = correct_model.transform(unlabeled_data)"
   ],
   "metadata": {
    "collapsed": false,
    "ExecuteTime": {
     "end_time": "2023-07-02T19:28:39.267508300Z",
     "start_time": "2023-07-02T19:28:39.250509600Z"
    }
   }
  },
  {
   "cell_type": "code",
   "execution_count": 36,
   "outputs": [
    {
     "name": "stdout",
     "output_type": "stream",
     "text": [
      "+--------------------+-------------------+\n",
      "|            features|         prediction|\n",
      "+--------------------+-------------------+\n",
      "|(10,[0,1,2,3,4,5,...|  1.804426046859911|\n",
      "|(10,[0,1,2,3,4,5,...|-2.7778043983324205|\n",
      "|(10,[0,1,2,3,4,5,...|-1.2247633913288318|\n",
      "|(10,[0,1,2,3,4,5,...|-1.1320147941825116|\n",
      "|(10,[0,1,2,3,4,5,...| 3.6146317804971666|\n",
      "|(10,[0,1,2,3,4,5,...| 2.6436316265297313|\n",
      "|(10,[0,1,2,3,4,5,...| 2.8514117315183487|\n",
      "|(10,[0,1,2,3,4,5,...|  3.385192616199273|\n",
      "|(10,[0,1,2,3,4,5,...| 2.8271267451744113|\n",
      "|(10,[0,1,2,3,4,5,...| -1.348867378918169|\n",
      "|(10,[0,1,2,3,4,5,...|  2.236827231940151|\n",
      "|(10,[0,1,2,3,4,5,...| 2.4998659153479155|\n",
      "|(10,[0,1,2,3,4,5,...| 1.5388613772929964|\n",
      "|(10,[0,1,2,3,4,5,...|-1.2852531544905879|\n",
      "|(10,[0,1,2,3,4,5,...| 0.9678483198682253|\n",
      "|(10,[0,1,2,3,4,5,...|  1.441515614170371|\n",
      "|(10,[0,1,2,3,4,5,...|  5.126180272010419|\n",
      "|(10,[0,1,2,3,4,5,...| 0.2316880294556295|\n",
      "|(10,[0,1,2,3,4,5,...|-0.4735716613926174|\n",
      "|(10,[0,1,2,3,4,5,...|-2.8416314136783467|\n",
      "+--------------------+-------------------+\n",
      "only showing top 20 rows\n",
      "\n"
     ]
    }
   ],
   "source": [
    "predictions.show()"
   ],
   "metadata": {
    "collapsed": false,
    "ExecuteTime": {
     "end_time": "2023-07-02T19:28:47.065837200Z",
     "start_time": "2023-07-02T19:28:46.968838500Z"
    }
   }
  },
  {
   "cell_type": "markdown",
   "source": [
    "So many questions at this point....\n",
    "\n",
    "Most important is how do we know what a correct model is? Take a class in statistics? :)"
   ],
   "metadata": {
    "collapsed": false
   }
  },
  {
   "cell_type": "code",
   "execution_count": null,
   "outputs": [],
   "source": [],
   "metadata": {
    "collapsed": false
   }
  }
 ],
 "metadata": {
  "kernelspec": {
   "display_name": "Python 3",
   "language": "python",
   "name": "python3"
  },
  "language_info": {
   "codemirror_mode": {
    "name": "ipython",
    "version": 2
   },
   "file_extension": ".py",
   "mimetype": "text/x-python",
   "name": "python",
   "nbconvert_exporter": "python",
   "pygments_lexer": "ipython2",
   "version": "2.7.6"
  }
 },
 "nbformat": 4,
 "nbformat_minor": 0
}
